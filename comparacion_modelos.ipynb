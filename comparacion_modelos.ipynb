{
 "cells": [
  {
   "cell_type": "markdown",
   "id": "8cb27dc1",
   "metadata": {},
   "source": [
    "# Tarea ML reto clase 1"
   ]
  },
  {
   "cell_type": "markdown",
   "id": "325fdd9e",
   "metadata": {},
   "source": [
    "## Importamos librerias"
   ]
  },
  {
   "cell_type": "code",
   "execution_count": 1,
   "id": "9a8d1566",
   "metadata": {},
   "outputs": [],
   "source": [
    "# librerías importadas\n",
    "import matplotlib.pyplot as plt\n",
    "import pandas as pd\n",
    "import numpy as np\n",
    "import warnings\n",
    "warnings.filterwarnings(\"ignore\")\n",
    "import time\n",
    "\n",
    "# librerías de sklearn\n",
    "from sklearn.preprocessing import StandardScaler\n",
    "from sklearn.model_selection import train_test_split\n",
    "from sklearn.metrics import accuracy_score, classification_report, ConfusionMatrixDisplay, f1_score\n",
    "from sklearn.model_selection import GridSearchCV\n",
    "from sklearn.preprocessing import PowerTransformer\n",
    "from sklearn.pipeline import Pipeline\n",
    "from sklearn.compose import ColumnTransformer\n",
    "from sklearn.impute import SimpleImputer\n",
    "from sklearn.preprocessing import OneHotEncoder, OrdinalEncoder, LabelEncoder\n",
    "from sklearn.feature_selection import SelectFromModel\n",
    "from sklearn.model_selection import StratifiedKFold\n",
    "from sklearn.naive_bayes import GaussianNB, MultinomialNB, ComplementNB\n",
    "from sklearn.ensemble import RandomForestClassifier\n",
    "\n",
    "# Modelos de clasificación comparados\n",
    "from xgboost import XGBClassifier\n",
    "from catboost import CatBoostClassifier\n",
    "\n",
    "import tensorflow\n",
    "from tensorflow.keras.models import Sequential\n",
    "from tensorflow.keras.layers import Dense\n",
    "from tensorflow.keras.optimizers import Adam\n",
    "from tensorflow.keras.callbacks import EarlyStopping, ModelCheckpoint\n",
    "\n",
    "from sklearn.model_selection import train_test_split\n",
    "from sklearn.metrics import accuracy_score, f1_score, classification_report, confusion_matrix\n",
    "\n",
    "import seaborn as sns\n",
    "import pandas as pd\n",
    "import numpy as np"
   ]
  },
  {
   "cell_type": "markdown",
   "id": "455a3355",
   "metadata": {},
   "source": [
    "# BU"
   ]
  },
  {
   "cell_type": "markdown",
   "id": "d29bfb66",
   "metadata": {},
   "source": [
    "Queremos saber e intentar predecir la calidad de sueño de las personas dada informacion dada por persona."
   ]
  },
  {
   "cell_type": "markdown",
   "id": "10d97f86",
   "metadata": {},
   "source": [
    "## Leemos los datos y checamos las primeras 5 filas"
   ]
  },
  {
   "cell_type": "code",
   "execution_count": 2,
   "id": "9111b258",
   "metadata": {},
   "outputs": [
    {
     "data": {
      "text/html": [
       "<div>\n",
       "<style scoped>\n",
       "    .dataframe tbody tr th:only-of-type {\n",
       "        vertical-align: middle;\n",
       "    }\n",
       "\n",
       "    .dataframe tbody tr th {\n",
       "        vertical-align: top;\n",
       "    }\n",
       "\n",
       "    .dataframe thead th {\n",
       "        text-align: right;\n",
       "    }\n",
       "</style>\n",
       "<table border=\"1\" class=\"dataframe\">\n",
       "  <thead>\n",
       "    <tr style=\"text-align: right;\">\n",
       "      <th></th>\n",
       "      <th>Age</th>\n",
       "      <th>Gender</th>\n",
       "      <th>Country</th>\n",
       "      <th>Coffee_Intake</th>\n",
       "      <th>Caffeine_mg</th>\n",
       "      <th>Sleep_Hours</th>\n",
       "      <th>Sleep_Quality</th>\n",
       "      <th>BMI</th>\n",
       "      <th>Heart_Rate</th>\n",
       "      <th>Stress_Level</th>\n",
       "      <th>Physical_Activity_Hours</th>\n",
       "      <th>Health_Issues</th>\n",
       "      <th>Occupation</th>\n",
       "      <th>Smoking</th>\n",
       "      <th>Alcohol_Consumption</th>\n",
       "    </tr>\n",
       "    <tr>\n",
       "      <th>ID</th>\n",
       "      <th></th>\n",
       "      <th></th>\n",
       "      <th></th>\n",
       "      <th></th>\n",
       "      <th></th>\n",
       "      <th></th>\n",
       "      <th></th>\n",
       "      <th></th>\n",
       "      <th></th>\n",
       "      <th></th>\n",
       "      <th></th>\n",
       "      <th></th>\n",
       "      <th></th>\n",
       "      <th></th>\n",
       "      <th></th>\n",
       "    </tr>\n",
       "  </thead>\n",
       "  <tbody>\n",
       "    <tr>\n",
       "      <th>1</th>\n",
       "      <td>40</td>\n",
       "      <td>Male</td>\n",
       "      <td>Germany</td>\n",
       "      <td>3.5</td>\n",
       "      <td>328.1</td>\n",
       "      <td>7.5</td>\n",
       "      <td>Good</td>\n",
       "      <td>24.9</td>\n",
       "      <td>78</td>\n",
       "      <td>Low</td>\n",
       "      <td>14.5</td>\n",
       "      <td>NaN</td>\n",
       "      <td>Other</td>\n",
       "      <td>0</td>\n",
       "      <td>0</td>\n",
       "    </tr>\n",
       "    <tr>\n",
       "      <th>2</th>\n",
       "      <td>33</td>\n",
       "      <td>Male</td>\n",
       "      <td>Germany</td>\n",
       "      <td>1.0</td>\n",
       "      <td>94.1</td>\n",
       "      <td>6.2</td>\n",
       "      <td>Good</td>\n",
       "      <td>20.0</td>\n",
       "      <td>67</td>\n",
       "      <td>Low</td>\n",
       "      <td>11.0</td>\n",
       "      <td>NaN</td>\n",
       "      <td>Service</td>\n",
       "      <td>0</td>\n",
       "      <td>0</td>\n",
       "    </tr>\n",
       "    <tr>\n",
       "      <th>3</th>\n",
       "      <td>42</td>\n",
       "      <td>Male</td>\n",
       "      <td>Brazil</td>\n",
       "      <td>5.3</td>\n",
       "      <td>503.7</td>\n",
       "      <td>5.9</td>\n",
       "      <td>Fair</td>\n",
       "      <td>22.7</td>\n",
       "      <td>59</td>\n",
       "      <td>Medium</td>\n",
       "      <td>11.2</td>\n",
       "      <td>Mild</td>\n",
       "      <td>Office</td>\n",
       "      <td>0</td>\n",
       "      <td>0</td>\n",
       "    </tr>\n",
       "    <tr>\n",
       "      <th>4</th>\n",
       "      <td>53</td>\n",
       "      <td>Male</td>\n",
       "      <td>Germany</td>\n",
       "      <td>2.6</td>\n",
       "      <td>249.2</td>\n",
       "      <td>7.3</td>\n",
       "      <td>Good</td>\n",
       "      <td>24.7</td>\n",
       "      <td>71</td>\n",
       "      <td>Low</td>\n",
       "      <td>6.6</td>\n",
       "      <td>Mild</td>\n",
       "      <td>Other</td>\n",
       "      <td>0</td>\n",
       "      <td>0</td>\n",
       "    </tr>\n",
       "    <tr>\n",
       "      <th>5</th>\n",
       "      <td>32</td>\n",
       "      <td>Female</td>\n",
       "      <td>Spain</td>\n",
       "      <td>3.1</td>\n",
       "      <td>298.0</td>\n",
       "      <td>5.3</td>\n",
       "      <td>Fair</td>\n",
       "      <td>24.1</td>\n",
       "      <td>76</td>\n",
       "      <td>Medium</td>\n",
       "      <td>8.5</td>\n",
       "      <td>Mild</td>\n",
       "      <td>Student</td>\n",
       "      <td>0</td>\n",
       "      <td>1</td>\n",
       "    </tr>\n",
       "  </tbody>\n",
       "</table>\n",
       "</div>"
      ],
      "text/plain": [
       "    Age  Gender  Country  Coffee_Intake  Caffeine_mg  Sleep_Hours  \\\n",
       "ID                                                                  \n",
       "1    40    Male  Germany            3.5        328.1          7.5   \n",
       "2    33    Male  Germany            1.0         94.1          6.2   \n",
       "3    42    Male   Brazil            5.3        503.7          5.9   \n",
       "4    53    Male  Germany            2.6        249.2          7.3   \n",
       "5    32  Female    Spain            3.1        298.0          5.3   \n",
       "\n",
       "   Sleep_Quality   BMI  Heart_Rate Stress_Level  Physical_Activity_Hours  \\\n",
       "ID                                                                         \n",
       "1           Good  24.9          78          Low                     14.5   \n",
       "2           Good  20.0          67          Low                     11.0   \n",
       "3           Fair  22.7          59       Medium                     11.2   \n",
       "4           Good  24.7          71          Low                      6.6   \n",
       "5           Fair  24.1          76       Medium                      8.5   \n",
       "\n",
       "   Health_Issues Occupation  Smoking  Alcohol_Consumption  \n",
       "ID                                                         \n",
       "1            NaN      Other        0                    0  \n",
       "2            NaN    Service        0                    0  \n",
       "3           Mild     Office        0                    0  \n",
       "4           Mild      Other        0                    0  \n",
       "5           Mild    Student        0                    1  "
      ]
     },
     "execution_count": 2,
     "metadata": {},
     "output_type": "execute_result"
    }
   ],
   "source": [
    "# Cargar datos del csv\n",
    "data = pd.read_csv('synthetic_coffee_health_10000.csv', index_col=0)\n",
    "data.head()"
   ]
  },
  {
   "cell_type": "markdown",
   "id": "fb10a572",
   "metadata": {},
   "source": [
    "## Informacion importante de los datos\n",
    "\n",
    "Vemos que los unicos datos faltantes estan en Health_Issues y los rellenamos con \"No\""
   ]
  },
  {
   "cell_type": "code",
   "execution_count": 3,
   "id": "dabb935f",
   "metadata": {},
   "outputs": [
    {
     "name": "stdout",
     "output_type": "stream",
     "text": [
      "<class 'pandas.core.frame.DataFrame'>\n",
      "Index: 10000 entries, 1 to 10000\n",
      "Data columns (total 15 columns):\n",
      " #   Column                   Non-Null Count  Dtype  \n",
      "---  ------                   --------------  -----  \n",
      " 0   Age                      10000 non-null  int64  \n",
      " 1   Gender                   10000 non-null  object \n",
      " 2   Country                  10000 non-null  object \n",
      " 3   Coffee_Intake            10000 non-null  float64\n",
      " 4   Caffeine_mg              10000 non-null  float64\n",
      " 5   Sleep_Hours              10000 non-null  float64\n",
      " 6   Sleep_Quality            10000 non-null  object \n",
      " 7   BMI                      10000 non-null  float64\n",
      " 8   Heart_Rate               10000 non-null  int64  \n",
      " 9   Stress_Level             10000 non-null  object \n",
      " 10  Physical_Activity_Hours  10000 non-null  float64\n",
      " 11  Health_Issues            4059 non-null   object \n",
      " 12  Occupation               10000 non-null  object \n",
      " 13  Smoking                  10000 non-null  int64  \n",
      " 14  Alcohol_Consumption      10000 non-null  int64  \n",
      "dtypes: float64(5), int64(4), object(6)\n",
      "memory usage: 1.2+ MB\n"
     ]
    }
   ],
   "source": [
    "# Información del DataFrame\n",
    "data.info()"
   ]
  },
  {
   "cell_type": "code",
   "execution_count": 4,
   "id": "28835b76",
   "metadata": {},
   "outputs": [],
   "source": [
    "# Rellenar valores nulos en la columna 'Health_Issues' con 'No'\n",
    "data['Health_Issues'].fillna('No', inplace=True)"
   ]
  },
  {
   "cell_type": "code",
   "execution_count": 5,
   "id": "a0591b6c",
   "metadata": {},
   "outputs": [
    {
     "data": {
      "text/plain": [
       "Health_Issues\n",
       "No          5941\n",
       "Mild        3579\n",
       "Moderate     463\n",
       "Severe        17\n",
       "Name: count, dtype: int64"
      ]
     },
     "execution_count": 5,
     "metadata": {},
     "output_type": "execute_result"
    }
   ],
   "source": [
    "# Verificar los valores únicos y su conteo en la columna 'Health_Issues'\n",
    "data['Health_Issues'].value_counts()"
   ]
  },
  {
   "cell_type": "markdown",
   "id": "a4502ce2",
   "metadata": {},
   "source": [
    "## Separacion de los datos\n",
    "### Transformamos la variable \"y\" a ordinal"
   ]
  },
  {
   "cell_type": "code",
   "execution_count": 6,
   "id": "4d4e6116",
   "metadata": {},
   "outputs": [],
   "source": [
    "# Dividir los datos en conjuntos de entrenamiento y prueba\n",
    "X = data.drop('Sleep_Quality', axis=1)\n",
    "y = data['Sleep_Quality']\n",
    "\n",
    "# Codificar las etiquetas de la variable objetivo\n",
    "le = LabelEncoder()\n",
    "\n",
    "# Transformar las etiquetas\n",
    "y = le.fit_transform(data['Sleep_Quality'])\n",
    "\n",
    "# Dividir los datos en conjuntos de entrenamiento y prueba con estratificación\n",
    "X_train, X_test, y_train, y_test = train_test_split(X, y, shuffle=True, test_size=0.2, random_state=42)"
   ]
  },
  {
   "cell_type": "markdown",
   "id": "32e270ce",
   "metadata": {},
   "source": [
    "## Generamos nuestro preprocesador de los datos"
   ]
  },
  {
   "cell_type": "code",
   "execution_count": 7,
   "id": "f8e1a0cd",
   "metadata": {},
   "outputs": [],
   "source": [
    "# Preprocesamiento de datos\n",
    "# Definir columnas categóricas y numéricas\n",
    "cat_ordinal_cols = ['Stress_Level']\n",
    "cat_onehot_cols = ['Gender', 'Country', 'Occupation']\n",
    "num_cols = data.select_dtypes(include=['number']).columns\n",
    "\n",
    "# Crear pipelines para diferentes tipos de datos\n",
    "cat_pipe = Pipeline(steps=[\n",
    "    ('imputer', SimpleImputer(strategy='most_frequent')),\n",
    "    ('onehot', OneHotEncoder(handle_unknown='ignore'))\n",
    "])\n",
    "\n",
    "# Pipeline para variables categóricas ordinales\n",
    "ord_pipe = Pipeline(steps=[\n",
    "    ('imputer', SimpleImputer(strategy='most_frequent')),\n",
    "    ('ordinal', OrdinalEncoder())\n",
    "])\n",
    "\n",
    "# Pipeline para variables numéricas\n",
    "num_pipe = Pipeline(steps=[\n",
    "    ('imputer', SimpleImputer(strategy='median')),\n",
    "    ('scaler', StandardScaler()),\n",
    "    ('power', PowerTransformer(method='yeo-johnson'))\n",
    "])\n",
    "\n",
    "# Combinar todos los pipelines en un ColumnTransformer\n",
    "pre = ColumnTransformer(\n",
    "    transformers=[\n",
    "        ('cat_ordinal', ord_pipe, cat_ordinal_cols),\n",
    "        ('cat_onehot', cat_pipe, cat_onehot_cols),\n",
    "        ('num', num_pipe, num_cols)\n",
    "    ]\n",
    ")\n"
   ]
  },
  {
   "cell_type": "markdown",
   "id": "bb9b3fc8",
   "metadata": {},
   "source": [
    "## Iniciamos nuestro pipeline con XGBoostClassifier"
   ]
  },
  {
   "cell_type": "code",
   "execution_count": 8,
   "id": "e19c8533",
   "metadata": {},
   "outputs": [
    {
     "name": "stdout",
     "output_type": "stream",
     "text": [
      "Fitting 5 folds for each of 108 candidates, totalling 540 fits\n"
     ]
    }
   ],
   "source": [
    "# Configuración de cross-validation \n",
    "cv = StratifiedKFold(n_splits=5, shuffle=True, random_state=42)\n",
    "\n",
    "# Crear pipeline completo con preprocesamiento y modelo\n",
    "pipe = Pipeline(steps=[\n",
    "    ('pre', pre),\n",
    "    ('model', XGBClassifier(\n",
    "        objective='multi:softprob',\n",
    "        eval_metric='mlogloss',\n",
    "        random_state=42\n",
    "    ))\n",
    "])\n",
    "\n",
    "# Definir la cuadrícula de hiperparámetros para grid search\n",
    "param_grid = {\n",
    "    'model__n_estimators': [100, 200, 300],\n",
    "    'model__max_depth': [3, 4, 5],\n",
    "    'model__learning_rate': [0.1, 0.05, 0.01],\n",
    "    'model__subsample': [0.8, 1.0],\n",
    "    'model__colsample_bytree': [0.8, 1.0]\n",
    "}\n",
    "\n",
    "# Configurar y ejecutar GridSearchCV\n",
    "grid_search = GridSearchCV(pipe, param_grid, cv=cv, n_jobs=-1, verbose=1)\n",
    "grid_search.fit(X_train, y_train)\n",
    "\n",
    "# Evaluar el mejor modelo encontrado\n",
    "best_model = grid_search.best_estimator_\n",
    "y_pred = best_model.predict(X_test)"
   ]
  },
  {
   "cell_type": "markdown",
   "id": "d19c76a2",
   "metadata": {},
   "source": [
    "## Feature Importance"
   ]
  },
  {
   "cell_type": "code",
   "execution_count": 9,
   "id": "b06d74e9",
   "metadata": {},
   "outputs": [
    {
     "data": {
      "text/html": [
       "<div>\n",
       "<style scoped>\n",
       "    .dataframe tbody tr th:only-of-type {\n",
       "        vertical-align: middle;\n",
       "    }\n",
       "\n",
       "    .dataframe tbody tr th {\n",
       "        vertical-align: top;\n",
       "    }\n",
       "\n",
       "    .dataframe thead th {\n",
       "        text-align: right;\n",
       "    }\n",
       "</style>\n",
       "<table border=\"1\" class=\"dataframe\">\n",
       "  <thead>\n",
       "    <tr style=\"text-align: right;\">\n",
       "      <th></th>\n",
       "      <th>Feature</th>\n",
       "      <th>Importance</th>\n",
       "    </tr>\n",
       "  </thead>\n",
       "  <tbody>\n",
       "    <tr>\n",
       "      <th>0</th>\n",
       "      <td>cat_ordinal__Stress_Level</td>\n",
       "      <td>0.548672</td>\n",
       "    </tr>\n",
       "    <tr>\n",
       "      <th>32</th>\n",
       "      <td>num__Sleep_Hours</td>\n",
       "      <td>0.411877</td>\n",
       "    </tr>\n",
       "    <tr>\n",
       "      <th>21</th>\n",
       "      <td>cat_onehot__Country_Switzerland</td>\n",
       "      <td>0.002666</td>\n",
       "    </tr>\n",
       "    <tr>\n",
       "      <th>31</th>\n",
       "      <td>num__Caffeine_mg</td>\n",
       "      <td>0.002598</td>\n",
       "    </tr>\n",
       "    <tr>\n",
       "      <th>30</th>\n",
       "      <td>num__Coffee_Intake</td>\n",
       "      <td>0.001954</td>\n",
       "    </tr>\n",
       "    <tr>\n",
       "      <th>19</th>\n",
       "      <td>cat_onehot__Country_Spain</td>\n",
       "      <td>0.001547</td>\n",
       "    </tr>\n",
       "    <tr>\n",
       "      <th>24</th>\n",
       "      <td>cat_onehot__Occupation_Healthcare</td>\n",
       "      <td>0.001493</td>\n",
       "    </tr>\n",
       "    <tr>\n",
       "      <th>11</th>\n",
       "      <td>cat_onehot__Country_Germany</td>\n",
       "      <td>0.001409</td>\n",
       "    </tr>\n",
       "    <tr>\n",
       "      <th>35</th>\n",
       "      <td>num__Physical_Activity_Hours</td>\n",
       "      <td>0.001385</td>\n",
       "    </tr>\n",
       "    <tr>\n",
       "      <th>7</th>\n",
       "      <td>cat_onehot__Country_Canada</td>\n",
       "      <td>0.001346</td>\n",
       "    </tr>\n",
       "    <tr>\n",
       "      <th>34</th>\n",
       "      <td>num__Heart_Rate</td>\n",
       "      <td>0.001344</td>\n",
       "    </tr>\n",
       "    <tr>\n",
       "      <th>8</th>\n",
       "      <td>cat_onehot__Country_China</td>\n",
       "      <td>0.001285</td>\n",
       "    </tr>\n",
       "    <tr>\n",
       "      <th>1</th>\n",
       "      <td>cat_onehot__Gender_Female</td>\n",
       "      <td>0.001270</td>\n",
       "    </tr>\n",
       "    <tr>\n",
       "      <th>27</th>\n",
       "      <td>cat_onehot__Occupation_Service</td>\n",
       "      <td>0.001250</td>\n",
       "    </tr>\n",
       "    <tr>\n",
       "      <th>2</th>\n",
       "      <td>cat_onehot__Gender_Male</td>\n",
       "      <td>0.001229</td>\n",
       "    </tr>\n",
       "  </tbody>\n",
       "</table>\n",
       "</div>"
      ],
      "text/plain": [
       "                              Feature  Importance\n",
       "0           cat_ordinal__Stress_Level    0.548672\n",
       "32                   num__Sleep_Hours    0.411877\n",
       "21    cat_onehot__Country_Switzerland    0.002666\n",
       "31                   num__Caffeine_mg    0.002598\n",
       "30                 num__Coffee_Intake    0.001954\n",
       "19          cat_onehot__Country_Spain    0.001547\n",
       "24  cat_onehot__Occupation_Healthcare    0.001493\n",
       "11        cat_onehot__Country_Germany    0.001409\n",
       "35       num__Physical_Activity_Hours    0.001385\n",
       "7          cat_onehot__Country_Canada    0.001346\n",
       "34                    num__Heart_Rate    0.001344\n",
       "8           cat_onehot__Country_China    0.001285\n",
       "1           cat_onehot__Gender_Female    0.001270\n",
       "27     cat_onehot__Occupation_Service    0.001250\n",
       "2             cat_onehot__Gender_Male    0.001229"
      ]
     },
     "execution_count": 9,
     "metadata": {},
     "output_type": "execute_result"
    }
   ],
   "source": [
    "# Resultados de la evaluación\n",
    "xgb_final = best_model.named_steps[\"model\"]\n",
    "\n",
    "# Importancia de características\n",
    "importances = xgb_final.feature_importances_\n",
    "feature_names = best_model.named_steps[\"pre\"].get_feature_names_out()\n",
    "\n",
    "# Crear un DataFrame para visualizar la importancia de las características\n",
    "feat_imp = pd.DataFrame({   \n",
    "    \"Feature\": feature_names,\n",
    "    \"Importance\": importances\n",
    "}).sort_values(by=\"Importance\", ascending=False)\n",
    "feat_imp.head(15)"
   ]
  },
  {
   "cell_type": "code",
   "execution_count": 10,
   "id": "992198dd",
   "metadata": {},
   "outputs": [
    {
     "data": {
      "text/plain": [
       "<Figure size 1000x600 with 0 Axes>"
      ]
     },
     "metadata": {},
     "output_type": "display_data"
    },
    {
     "data": {
      "image/png": "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",
      "text/plain": [
       "<Figure size 640x480 with 1 Axes>"
      ]
     },
     "metadata": {},
     "output_type": "display_data"
    }
   ],
   "source": [
    "# Visualizar la importancia de las características\n",
    "plt.figure(figsize=(10,6))\n",
    "feat_imp.head(20).plot(kind=\"barh\", x=\"Feature\", y=\"Importance\", legend=False)\n",
    "plt.title(\"Top 20 Feature Importances - XGBoost\")\n",
    "plt.gca().invert_yaxis()\n",
    "plt.show()"
   ]
  },
  {
   "cell_type": "markdown",
   "id": "9ec106b3",
   "metadata": {},
   "source": [
    "## Vemos los resultados XGBoost"
   ]
  },
  {
   "cell_type": "code",
   "execution_count": 11,
   "id": "28b734b8",
   "metadata": {},
   "outputs": [
    {
     "name": "stdout",
     "output_type": "stream",
     "text": [
      "Mapeo de Clases:\n",
      "['Excellent' 'Fair' 'Good' 'Poor']\n",
      "[0 1 2 3]\n",
      "\n",
      "=======================================================\n",
      "Accuracy Score!: 0.9905\n",
      "F1 Score!: 0.990466297324818\n",
      "              precision    recall  f1-score   support\n",
      "\n",
      "           0       0.97      0.96      0.96       273\n",
      "           1       1.00      1.00      1.00       375\n",
      "           2       0.99      0.99      0.99      1162\n",
      "           3       1.00      1.00      1.00       190\n",
      "\n",
      "    accuracy                           0.99      2000\n",
      "   macro avg       0.99      0.99      0.99      2000\n",
      "weighted avg       0.99      0.99      0.99      2000\n",
      "\n",
      "=======================================================\n"
     ]
    }
   ],
   "source": [
    "# Matriz de confusión\n",
    "print(\"Mapeo de Clases:\")\n",
    "print(le.classes_)\n",
    "print(np.unique(y), end='\\n\\n')\n",
    "\n",
    "# Mostrar la matriz de confusión\n",
    "print('=======================================================')\n",
    "print(\"Accuracy Score!:\", accuracy_score(y_test, y_pred))\n",
    "\n",
    "# Calcular y mostrar el F1 Score y el reporte de clasificación\n",
    "f1 = f1_score(y_test, y_pred, average='weighted')\n",
    "print(\"F1 Score!:\", f1)\n",
    "print(classification_report(y_test, y_pred))\n",
    "print('=======================================================')"
   ]
  },
  {
   "cell_type": "code",
   "execution_count": 12,
   "id": "8a2a2931",
   "metadata": {},
   "outputs": [
    {
     "data": {
      "image/png": "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",
      "text/plain": [
       "<Figure size 640x480 with 2 Axes>"
      ]
     },
     "metadata": {},
     "output_type": "display_data"
    }
   ],
   "source": [
    "# Visualizar la matriz de confusión\n",
    "ConfusionMatrixDisplay.from_estimator(best_model, X_test, y_test)\n",
    "plt.title('Matriz de Confusión')\n",
    "plt.show()"
   ]
  },
  {
   "cell_type": "markdown",
   "id": "38d868fe",
   "metadata": {},
   "source": [
    "## Implementación del pipeline CatBoostClassifier"
   ]
  },
  {
   "cell_type": "code",
   "execution_count": 13,
   "id": "de897b40",
   "metadata": {},
   "outputs": [
    {
     "name": "stdout",
     "output_type": "stream",
     "text": [
      "Fitting 5 folds for each of 81 candidates, totalling 405 fits\n"
     ]
    }
   ],
   "source": [
    "# Segundo modelo con CatBoostClassifier\n",
    "cv = StratifiedKFold(n_splits=5, shuffle=True, random_state=42)\n",
    "\n",
    "# Crear pipeline completo con preprocesamiento y modelo CatBoost\n",
    "cat_pipe = Pipeline(steps=[\n",
    "    ('pre', pre),\n",
    "    ('model', CatBoostClassifier(\n",
    "        loss_function='MultiClass',\n",
    "        random_state=42,\n",
    "        verbose=0\n",
    "    ))\n",
    "])\n",
    "\n",
    "# Definir la cuadrícula de hiperparámetros para grid search con CatBoost\n",
    "# Nota: CatBoost maneja automáticamente las variables categóricas, pero en este caso ya están preprocesadas.\n",
    "cat_param_grid = {\n",
    "    'model__iterations': [100, 200, 300],\n",
    "    'model__depth': [3, 4, 5],\n",
    "    'model__learning_rate': [0.1, 0.05, 0.01],\n",
    "    'model__l2_leaf_reg': [1, 3, 5]\n",
    "}\n",
    "\n",
    "# Configurar y ejecutar GridSearchCV para CatBoost\n",
    "cat_grid_search = GridSearchCV(cat_pipe, cat_param_grid, cv=cv, n_jobs=-1, verbose=1)\n",
    "cat_grid_search.fit(X_train, y_train)\n",
    "\n",
    "# Evaluar el mejor modelo encontrado con CatBoost\n",
    "cat_best_model = cat_grid_search.best_estimator_\n",
    "cat_y_pred = cat_best_model.predict(X_test)"
   ]
  },
  {
   "cell_type": "markdown",
   "id": "5d75ebf6",
   "metadata": {},
   "source": [
    "## Feature Importance"
   ]
  },
  {
   "cell_type": "code",
   "execution_count": 14,
   "id": "1f14ee2d",
   "metadata": {},
   "outputs": [
    {
     "data": {
      "text/html": [
       "<div>\n",
       "<style scoped>\n",
       "    .dataframe tbody tr th:only-of-type {\n",
       "        vertical-align: middle;\n",
       "    }\n",
       "\n",
       "    .dataframe tbody tr th {\n",
       "        vertical-align: top;\n",
       "    }\n",
       "\n",
       "    .dataframe thead th {\n",
       "        text-align: right;\n",
       "    }\n",
       "</style>\n",
       "<table border=\"1\" class=\"dataframe\">\n",
       "  <thead>\n",
       "    <tr style=\"text-align: right;\">\n",
       "      <th></th>\n",
       "      <th>Feature</th>\n",
       "      <th>Importance</th>\n",
       "    </tr>\n",
       "  </thead>\n",
       "  <tbody>\n",
       "    <tr>\n",
       "      <th>0</th>\n",
       "      <td>cat_ordinal__Stress_Level</td>\n",
       "      <td>60.082188</td>\n",
       "    </tr>\n",
       "    <tr>\n",
       "      <th>32</th>\n",
       "      <td>num__Sleep_Hours</td>\n",
       "      <td>38.308222</td>\n",
       "    </tr>\n",
       "    <tr>\n",
       "      <th>34</th>\n",
       "      <td>num__Heart_Rate</td>\n",
       "      <td>0.249439</td>\n",
       "    </tr>\n",
       "    <tr>\n",
       "      <th>33</th>\n",
       "      <td>num__BMI</td>\n",
       "      <td>0.222744</td>\n",
       "    </tr>\n",
       "    <tr>\n",
       "      <th>35</th>\n",
       "      <td>num__Physical_Activity_Hours</td>\n",
       "      <td>0.212512</td>\n",
       "    </tr>\n",
       "    <tr>\n",
       "      <th>31</th>\n",
       "      <td>num__Caffeine_mg</td>\n",
       "      <td>0.192746</td>\n",
       "    </tr>\n",
       "    <tr>\n",
       "      <th>29</th>\n",
       "      <td>num__Age</td>\n",
       "      <td>0.165736</td>\n",
       "    </tr>\n",
       "    <tr>\n",
       "      <th>24</th>\n",
       "      <td>cat_onehot__Occupation_Healthcare</td>\n",
       "      <td>0.106878</td>\n",
       "    </tr>\n",
       "    <tr>\n",
       "      <th>30</th>\n",
       "      <td>num__Coffee_Intake</td>\n",
       "      <td>0.088433</td>\n",
       "    </tr>\n",
       "    <tr>\n",
       "      <th>19</th>\n",
       "      <td>cat_onehot__Country_Spain</td>\n",
       "      <td>0.050696</td>\n",
       "    </tr>\n",
       "    <tr>\n",
       "      <th>26</th>\n",
       "      <td>cat_onehot__Occupation_Other</td>\n",
       "      <td>0.042400</td>\n",
       "    </tr>\n",
       "    <tr>\n",
       "      <th>1</th>\n",
       "      <td>cat_onehot__Gender_Female</td>\n",
       "      <td>0.032898</td>\n",
       "    </tr>\n",
       "    <tr>\n",
       "      <th>2</th>\n",
       "      <td>cat_onehot__Gender_Male</td>\n",
       "      <td>0.032081</td>\n",
       "    </tr>\n",
       "    <tr>\n",
       "      <th>28</th>\n",
       "      <td>cat_onehot__Occupation_Student</td>\n",
       "      <td>0.029752</td>\n",
       "    </tr>\n",
       "    <tr>\n",
       "      <th>13</th>\n",
       "      <td>cat_onehot__Country_Italy</td>\n",
       "      <td>0.021631</td>\n",
       "    </tr>\n",
       "  </tbody>\n",
       "</table>\n",
       "</div>"
      ],
      "text/plain": [
       "                              Feature  Importance\n",
       "0           cat_ordinal__Stress_Level   60.082188\n",
       "32                   num__Sleep_Hours   38.308222\n",
       "34                    num__Heart_Rate    0.249439\n",
       "33                           num__BMI    0.222744\n",
       "35       num__Physical_Activity_Hours    0.212512\n",
       "31                   num__Caffeine_mg    0.192746\n",
       "29                           num__Age    0.165736\n",
       "24  cat_onehot__Occupation_Healthcare    0.106878\n",
       "30                 num__Coffee_Intake    0.088433\n",
       "19          cat_onehot__Country_Spain    0.050696\n",
       "26       cat_onehot__Occupation_Other    0.042400\n",
       "1           cat_onehot__Gender_Female    0.032898\n",
       "2             cat_onehot__Gender_Male    0.032081\n",
       "28     cat_onehot__Occupation_Student    0.029752\n",
       "13          cat_onehot__Country_Italy    0.021631"
      ]
     },
     "execution_count": 14,
     "metadata": {},
     "output_type": "execute_result"
    }
   ],
   "source": [
    "# Feature importance for CatBoost\n",
    "cat_final = cat_best_model.named_steps[\"model\"]\n",
    "cat_importances = cat_final.feature_importances_\n",
    "cat_feature_names = cat_best_model.named_steps[\"pre\"].get_feature_names_out()\n",
    "\n",
    "# Crear un DataFrame para visualizar la importancia de las características de CatBoost\n",
    "cat_feat_imp = pd.DataFrame({\n",
    "    \"Feature\": cat_feature_names,\n",
    "    \"Importance\": cat_importances\n",
    "}).sort_values(by=\"Importance\", ascending=False)\n",
    "cat_feat_imp.head(15)"
   ]
  },
  {
   "cell_type": "code",
   "execution_count": 15,
   "id": "2bcdddcf",
   "metadata": {},
   "outputs": [
    {
     "data": {
      "text/plain": [
       "<Figure size 1000x600 with 0 Axes>"
      ]
     },
     "metadata": {},
     "output_type": "display_data"
    },
    {
     "data": {
      "image/png": "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",
      "text/plain": [
       "<Figure size 640x480 with 1 Axes>"
      ]
     },
     "metadata": {},
     "output_type": "display_data"
    }
   ],
   "source": [
    "# Resultados de la evaluación del modelo con selección de características\n",
    "plt.figure(figsize=(10,6))\n",
    "cat_feat_imp.head(20).plot(kind=\"barh\", x=\"Feature\", y=\"Importance\", legend=False)\n",
    "plt.title(\"Top 20 Feature Importances - CatBoost\")\n",
    "plt.gca().invert_yaxis()\n",
    "plt.show()"
   ]
  },
  {
   "cell_type": "markdown",
   "id": "14046a3e",
   "metadata": {},
   "source": [
    "## Vemos los resultados CatBoost"
   ]
  },
  {
   "cell_type": "code",
   "execution_count": 16,
   "id": "17771235",
   "metadata": {},
   "outputs": [
    {
     "name": "stdout",
     "output_type": "stream",
     "text": [
      "Mapeo de Clases:\n",
      "['Excellent' 'Fair' 'Good' 'Poor']\n",
      "[0 1 2 3]\n",
      "\n",
      "=======================================================\n",
      "Accuracy Score!: 0.9895\n",
      "F1 Score!: 0.9894777628464317\n",
      "              precision    recall  f1-score   support\n",
      "\n",
      "           0       0.97      0.96      0.96       273\n",
      "           1       1.00      1.00      1.00       375\n",
      "           2       0.99      0.99      0.99      1162\n",
      "           3       1.00      1.00      1.00       190\n",
      "\n",
      "    accuracy                           0.99      2000\n",
      "   macro avg       0.99      0.99      0.99      2000\n",
      "weighted avg       0.99      0.99      0.99      2000\n",
      "\n",
      "=======================================================\n"
     ]
    },
    {
     "data": {
      "image/png": "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",
      "text/plain": [
       "<Figure size 640x480 with 2 Axes>"
      ]
     },
     "metadata": {},
     "output_type": "display_data"
    }
   ],
   "source": [
    "# Matriz de confusión para CatBoost\n",
    "print(\"Mapeo de Clases:\")\n",
    "print(le.classes_)\n",
    "print(np.unique(y), end='\\n\\n')\n",
    "print('=======================================================')\n",
    "print(\"Accuracy Score!:\", accuracy_score(y_test, cat_y_pred))\n",
    "\n",
    "# Calcular y mostrar el F1 Score y el reporte de clasificación\n",
    "cat_f1 = f1_score(y_test, cat_y_pred, average='weighted')\n",
    "print(\"F1 Score!:\", cat_f1)\n",
    "print(classification_report(y_test, cat_y_pred))\n",
    "print('=======================================================')\n",
    "\n",
    "# Visualizar la matriz de confusión\n",
    "ConfusionMatrixDisplay.from_estimator(cat_best_model, X_test, y_test)\n",
    "plt.title('Matriz de Confusión - CatBoost')\n",
    "plt.show()"
   ]
  },
  {
   "cell_type": "markdown",
   "id": "bed62ba1",
   "metadata": {},
   "source": [
    "## Redes Neuronales"
   ]
  },
  {
   "cell_type": "code",
   "execution_count": 17,
   "id": "0fd9f95b",
   "metadata": {},
   "outputs": [],
   "source": [
    "# Preprocesamiento de datos\n",
    "X = data.drop('Sleep_Quality', axis=1)\n",
    "y = data['Sleep_Quality']\n",
    "le = LabelEncoder()\n",
    "y = le.fit_transform(data['Sleep_Quality'])\n",
    "X = pre.fit_transform(X)\n",
    "\n",
    "# Dividir los datos en conjuntos de entrenamiento y prueba\n",
    "NL_X_train, NL_X_test, NL_y_train, NL_y_test = train_test_split(X, y, shuffle=True, test_size=0.2, random_state=42)\n"
   ]
  },
  {
   "cell_type": "code",
   "execution_count": 18,
   "id": "355f065f",
   "metadata": {},
   "outputs": [
    {
     "data": {
      "text/plain": [
       "array([0, 1, 2, 3])"
      ]
     },
     "execution_count": 18,
     "metadata": {},
     "output_type": "execute_result"
    }
   ],
   "source": [
    "# Vemos las clases\n",
    "np.unique(y_train)"
   ]
  },
  {
   "cell_type": "code",
   "execution_count": 19,
   "id": "fc2f9160",
   "metadata": {},
   "outputs": [
    {
     "name": "stdout",
     "output_type": "stream",
     "text": [
      "Epoch 1/20\n",
      "\u001b[1m250/250\u001b[0m \u001b[32m━━━━━━━━━━━━━━━━━━━━\u001b[0m\u001b[37m\u001b[0m \u001b[1m1s\u001b[0m 748us/step - accuracy: 0.6115 - loss: 1.0341 - val_accuracy: 0.7505 - val_loss: 0.6852\n",
      "Epoch 2/20\n",
      "\u001b[1m250/250\u001b[0m \u001b[32m━━━━━━━━━━━━━━━━━━━━\u001b[0m\u001b[37m\u001b[0m \u001b[1m0s\u001b[0m 399us/step - accuracy: 0.8365 - loss: 0.4413 - val_accuracy: 0.9525 - val_loss: 0.2735\n",
      "Epoch 3/20\n",
      "\u001b[1m250/250\u001b[0m \u001b[32m━━━━━━━━━━━━━━━━━━━━\u001b[0m\u001b[37m\u001b[0m \u001b[1m0s\u001b[0m 374us/step - accuracy: 0.9718 - loss: 0.2066 - val_accuracy: 0.9840 - val_loss: 0.1666\n",
      "Epoch 4/20\n",
      "\u001b[1m250/250\u001b[0m \u001b[32m━━━━━━━━━━━━━━━━━━━━\u001b[0m\u001b[37m\u001b[0m \u001b[1m0s\u001b[0m 371us/step - accuracy: 0.9866 - loss: 0.1446 - val_accuracy: 0.9870 - val_loss: 0.1290\n",
      "Epoch 5/20\n",
      "\u001b[1m250/250\u001b[0m \u001b[32m━━━━━━━━━━━━━━━━━━━━\u001b[0m\u001b[37m\u001b[0m \u001b[1m0s\u001b[0m 381us/step - accuracy: 0.9906 - loss: 0.1148 - val_accuracy: 0.9875 - val_loss: 0.1047\n",
      "Epoch 6/20\n",
      "\u001b[1m250/250\u001b[0m \u001b[32m━━━━━━━━━━━━━━━━━━━━\u001b[0m\u001b[37m\u001b[0m \u001b[1m0s\u001b[0m 378us/step - accuracy: 0.9911 - loss: 0.0949 - val_accuracy: 0.9885 - val_loss: 0.0882\n",
      "Epoch 7/20\n",
      "\u001b[1m250/250\u001b[0m \u001b[32m━━━━━━━━━━━━━━━━━━━━\u001b[0m\u001b[37m\u001b[0m \u001b[1m0s\u001b[0m 377us/step - accuracy: 0.9920 - loss: 0.0789 - val_accuracy: 0.9890 - val_loss: 0.0770\n",
      "Epoch 8/20\n",
      "\u001b[1m250/250\u001b[0m \u001b[32m━━━━━━━━━━━━━━━━━━━━\u001b[0m\u001b[37m\u001b[0m \u001b[1m0s\u001b[0m 376us/step - accuracy: 0.9916 - loss: 0.0677 - val_accuracy: 0.9875 - val_loss: 0.0666\n",
      "Epoch 9/20\n",
      "\u001b[1m250/250\u001b[0m \u001b[32m━━━━━━━━━━━━━━━━━━━━\u001b[0m\u001b[37m\u001b[0m \u001b[1m0s\u001b[0m 378us/step - accuracy: 0.9919 - loss: 0.0579 - val_accuracy: 0.9885 - val_loss: 0.0575\n",
      "Epoch 10/20\n",
      "\u001b[1m250/250\u001b[0m \u001b[32m━━━━━━━━━━━━━━━━━━━━\u001b[0m\u001b[37m\u001b[0m \u001b[1m0s\u001b[0m 375us/step - accuracy: 0.9930 - loss: 0.0497 - val_accuracy: 0.9870 - val_loss: 0.0587\n",
      "Epoch 11/20\n",
      "\u001b[1m250/250\u001b[0m \u001b[32m━━━━━━━━━━━━━━━━━━━━\u001b[0m\u001b[37m\u001b[0m \u001b[1m0s\u001b[0m 371us/step - accuracy: 0.9911 - loss: 0.0452 - val_accuracy: 0.9890 - val_loss: 0.0454\n",
      "Epoch 12/20\n",
      "\u001b[1m250/250\u001b[0m \u001b[32m━━━━━━━━━━━━━━━━━━━━\u001b[0m\u001b[37m\u001b[0m \u001b[1m0s\u001b[0m 375us/step - accuracy: 0.9933 - loss: 0.0404 - val_accuracy: 0.9885 - val_loss: 0.0419\n",
      "Epoch 13/20\n",
      "\u001b[1m250/250\u001b[0m \u001b[32m━━━━━━━━━━━━━━━━━━━━\u001b[0m\u001b[37m\u001b[0m \u001b[1m0s\u001b[0m 372us/step - accuracy: 0.9929 - loss: 0.0355 - val_accuracy: 0.9895 - val_loss: 0.0400\n",
      "Epoch 14/20\n",
      "\u001b[1m250/250\u001b[0m \u001b[32m━━━━━━━━━━━━━━━━━━━━\u001b[0m\u001b[37m\u001b[0m \u001b[1m0s\u001b[0m 376us/step - accuracy: 0.9931 - loss: 0.0324 - val_accuracy: 0.9870 - val_loss: 0.0394\n",
      "Epoch 15/20\n",
      "\u001b[1m250/250\u001b[0m \u001b[32m━━━━━━━━━━━━━━━━━━━━\u001b[0m\u001b[37m\u001b[0m \u001b[1m0s\u001b[0m 373us/step - accuracy: 0.9935 - loss: 0.0300 - val_accuracy: 0.9890 - val_loss: 0.0347\n",
      "Epoch 16/20\n",
      "\u001b[1m250/250\u001b[0m \u001b[32m━━━━━━━━━━━━━━━━━━━━\u001b[0m\u001b[37m\u001b[0m \u001b[1m0s\u001b[0m 374us/step - accuracy: 0.9923 - loss: 0.0282 - val_accuracy: 0.9895 - val_loss: 0.0329\n",
      "Epoch 17/20\n",
      "\u001b[1m250/250\u001b[0m \u001b[32m━━━━━━━━━━━━━━━━━━━━\u001b[0m\u001b[37m\u001b[0m \u001b[1m0s\u001b[0m 375us/step - accuracy: 0.9926 - loss: 0.0265 - val_accuracy: 0.9900 - val_loss: 0.0317\n",
      "Epoch 18/20\n",
      "\u001b[1m250/250\u001b[0m \u001b[32m━━━━━━━━━━━━━━━━━━━━\u001b[0m\u001b[37m\u001b[0m \u001b[1m0s\u001b[0m 374us/step - accuracy: 0.9941 - loss: 0.0233 - val_accuracy: 0.9895 - val_loss: 0.0301\n",
      "Epoch 19/20\n",
      "\u001b[1m250/250\u001b[0m \u001b[32m━━━━━━━━━━━━━━━━━━━━\u001b[0m\u001b[37m\u001b[0m \u001b[1m0s\u001b[0m 378us/step - accuracy: 0.9941 - loss: 0.0224 - val_accuracy: 0.9905 - val_loss: 0.0313\n",
      "Epoch 20/20\n",
      "\u001b[1m250/250\u001b[0m \u001b[32m━━━━━━━━━━━━━━━━━━━━\u001b[0m\u001b[37m\u001b[0m \u001b[1m0s\u001b[0m 378us/step - accuracy: 0.9944 - loss: 0.0199 - val_accuracy: 0.9890 - val_loss: 0.0345\n",
      "\u001b[1m63/63\u001b[0m \u001b[32m━━━━━━━━━━━━━━━━━━━━\u001b[0m\u001b[37m\u001b[0m \u001b[1m0s\u001b[0m 459us/step\n",
      "Accuracy Score!: 0.989\n",
      "F1 Score!: 0.9889209527555027\n",
      "              precision    recall  f1-score   support\n",
      "\n",
      "           0       0.98      0.94      0.96       273\n",
      "           1       1.00      1.00      1.00       375\n",
      "           2       0.99      0.99      0.99      1162\n",
      "           3       1.00      1.00      1.00       190\n",
      "\n",
      "    accuracy                           0.99      2000\n",
      "   macro avg       0.99      0.98      0.99      2000\n",
      "weighted avg       0.99      0.99      0.99      2000\n",
      "\n"
     ]
    }
   ],
   "source": [
    "# Creamos nuestra red neuronal\n",
    "nw = Sequential(\n",
    "    [\n",
    "        Dense(16, activation='relu', input_shape=(NL_X_train.shape[1],)),\n",
    "        Dense(8, activation='relu'),\n",
    "        Dense(4, activation='relu'),\n",
    "        Dense(np.unique(NL_y_train).shape[0], activation='softmax')\n",
    "    ]\n",
    ")\n",
    "\n",
    "# Compilamos nuestra red neuronal\n",
    "nw.compile(optimizer=Adam(learning_rate=0.001), loss='sparse_categorical_crossentropy', metrics=['accuracy'])\n",
    "\n",
    "# Entrenamos nuestra red neuronal\n",
    "nw.fit(NL_X_train, NL_y_train, epochs=20, batch_size=32, validation_data=(NL_X_test, NL_y_test))\n",
    "\n",
    "# Hacemos predicciones\n",
    "y_pred_probs = nw.predict(NL_X_test)\n",
    "y_pred_classes = np.argmax(y_pred_probs, axis=1)\n",
    "\n",
    "print(\"Accuracy Score!:\", accuracy_score(NL_y_test, y_pred_classes))\n",
    "f1 = f1_score(NL_y_test, y_pred_classes, average='weighted')\n",
    "print(\"F1 Score!:\", f1)\n",
    "print(classification_report(NL_y_test, y_pred_classes))"
   ]
  },
  {
   "cell_type": "code",
   "execution_count": 20,
   "id": "7a56d9a6",
   "metadata": {},
   "outputs": [
    {
     "data": {
      "image/png": "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",
      "text/plain": [
       "<Figure size 800x600 with 2 Axes>"
      ]
     },
     "metadata": {},
     "output_type": "display_data"
    }
   ],
   "source": [
    "\n",
    "plt.figure(figsize=(8, 6))\n",
    "cm = confusion_matrix(y_test, y_pred_classes)\n",
    "sns.heatmap(cm, annot=True, cmap='Blues', fmt='g')\n",
    "plt.title('Matriz de Confusión')\n",
    "plt.show()\n"
   ]
  },
  {
   "cell_type": "markdown",
   "id": "8da5f378",
   "metadata": {},
   "source": [
    "## Random Forest"
   ]
  },
  {
   "cell_type": "code",
   "execution_count": 22,
   "id": "fae5b12b",
   "metadata": {},
   "outputs": [
    {
     "name": "stdout",
     "output_type": "stream",
     "text": [
      "Fitting 5 folds for each of 81 candidates, totalling 405 fits\n",
      "Accuracy Score: 0.9895\n",
      "F1 Score: 0.989447583947584\n",
      "              precision    recall  f1-score   support\n",
      "\n",
      "           0       0.97      0.95      0.96       273\n",
      "           1       1.00      1.00      1.00       375\n",
      "           2       0.99      0.99      0.99      1162\n",
      "           3       1.00      1.00      1.00       190\n",
      "\n",
      "    accuracy                           0.99      2000\n",
      "   macro avg       0.99      0.99      0.99      2000\n",
      "weighted avg       0.99      0.99      0.99      2000\n",
      "\n"
     ]
    },
    {
     "data": {
      "image/png": "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",
      "text/plain": [
       "<Figure size 640x480 with 2 Axes>"
      ]
     },
     "metadata": {},
     "output_type": "display_data"
    }
   ],
   "source": [
    "# Random Forest con Grid Search\n",
    "cv = StratifiedKFold(n_splits=5, shuffle=True, random_state=42)\n",
    "\n",
    "# Crear pipeline completo con preprocesamiento y modelo Random Forest\n",
    "rf_pipe = Pipeline(steps=[\n",
    "    ('pre', pre),\n",
    "    ('model', RandomForestClassifier(random_state=42))\n",
    "])\n",
    "\n",
    "# Definir la cuadrícula de hiperparámetros para Random Forest\n",
    "rf_param_grid = {\n",
    "    'model__n_estimators': [100, 200, 300],\n",
    "    'model__max_depth': [10, 20, None],\n",
    "    'model__min_samples_split': [2, 5, 10],\n",
    "    'model__min_samples_leaf': [1, 2, 4]\n",
    "}\n",
    "\n",
    "# Configurar y ejecutar GridSearchCV para Random Forest\n",
    "rf_grid_search = GridSearchCV(rf_pipe, rf_param_grid, cv=cv, n_jobs=-1, verbose=1)\n",
    "rf_grid_search.fit(X_train, y_train)\n",
    "\n",
    "# Evaluar el mejor modelo encontrado con Random Forest\n",
    "rf_best_model = rf_grid_search.best_estimator_\n",
    "rf_y_pred = rf_best_model.predict(X_test)\n",
    "\n",
    "print(\"Accuracy Score:\", accuracy_score(y_test, rf_y_pred))\n",
    "rf_f1 = f1_score(y_test, rf_y_pred, average='weighted')\n",
    "print(\"F1 Score:\", rf_f1)\n",
    "print(classification_report(y_test, rf_y_pred))\n",
    "\n",
    "# Visualizar la matriz de confusión\n",
    "ConfusionMatrixDisplay.from_estimator(rf_best_model, X_test, y_test)\n",
    "plt.title('Matriz de Confusión - Random Forest')\n",
    "plt.show()\n"
   ]
  },
  {
   "cell_type": "markdown",
   "id": "6afc71f6",
   "metadata": {},
   "source": [
    "## Comparación de modelos "
   ]
  },
  {
   "cell_type": "code",
   "execution_count": 23,
   "id": "695faba6",
   "metadata": {},
   "outputs": [
    {
     "name": "stdout",
     "output_type": "stream",
     "text": [
      "Fitting 5 folds for each of 108 candidates, totalling 540 fits\n",
      "Fitting 5 folds for each of 81 candidates, totalling 405 fits\n",
      "\u001b[1m63/63\u001b[0m \u001b[32m━━━━━━━━━━━━━━━━━━━━\u001b[0m\u001b[37m\u001b[0m \u001b[1m0s\u001b[0m 233us/step\n",
      "Fitting 5 folds for each of 81 candidates, totalling 405 fits\n",
      "\n",
      "=== Comparación entre Modelos ===\n",
      "               Accuracy  F1-Score Tiempo Entrenamiento (s)\n",
      "XGBoost          0.9905  0.990466                22.575111\n",
      "CatBoost         0.9895  0.989478                31.236525\n",
      "Neural Network   0.9885  0.988524                 2.005426\n",
      "Random Forest    0.9895  0.989448                38.768577\n",
      "\n",
      "=== Classification Report XGBoost ===\n",
      "              precision    recall  f1-score   support\n",
      "\n",
      "   Excellent       0.97      0.96      0.96       273\n",
      "        Fair       1.00      1.00      1.00       375\n",
      "        Good       0.99      0.99      0.99      1162\n",
      "        Poor       1.00      1.00      1.00       190\n",
      "\n",
      "    accuracy                           0.99      2000\n",
      "   macro avg       0.99      0.99      0.99      2000\n",
      "weighted avg       0.99      0.99      0.99      2000\n",
      "\n",
      "\n",
      "=== Classification Report CatBoost ===\n",
      "              precision    recall  f1-score   support\n",
      "\n",
      "   Excellent       0.97      0.96      0.96       273\n",
      "        Fair       1.00      1.00      1.00       375\n",
      "        Good       0.99      0.99      0.99      1162\n",
      "        Poor       1.00      1.00      1.00       190\n",
      "\n",
      "    accuracy                           0.99      2000\n",
      "   macro avg       0.99      0.99      0.99      2000\n",
      "weighted avg       0.99      0.99      0.99      2000\n",
      "\n",
      "\n",
      "=== Classification Report Neural Network ===\n",
      "              precision    recall  f1-score   support\n",
      "\n",
      "   Excellent       0.95      0.96      0.96       273\n",
      "        Fair       1.00      1.00      1.00       375\n",
      "        Good       0.99      0.99      0.99      1162\n",
      "        Poor       1.00      1.00      1.00       190\n",
      "\n",
      "    accuracy                           0.99      2000\n",
      "   macro avg       0.99      0.99      0.99      2000\n",
      "weighted avg       0.99      0.99      0.99      2000\n",
      "\n",
      "\n",
      "=== Classification Report Random Forest ===\n",
      "              precision    recall  f1-score   support\n",
      "\n",
      "   Excellent       0.97      0.95      0.96       273\n",
      "        Fair       1.00      1.00      1.00       375\n",
      "        Good       0.99      0.99      0.99      1162\n",
      "        Poor       1.00      1.00      1.00       190\n",
      "\n",
      "    accuracy                           0.99      2000\n",
      "   macro avg       0.99      0.99      0.99      2000\n",
      "weighted avg       0.99      0.99      0.99      2000\n",
      "\n"
     ]
    }
   ],
   "source": [
    "# Diccionario para almacenar resultados\n",
    "results = {}\n",
    "\n",
    "# ===== Modelo XGBoost =====\n",
    "start = time.time()\n",
    "grid_search.fit(X_train, y_train)\n",
    "end = time.time()\n",
    "\n",
    "best_model = grid_search.best_estimator_\n",
    "y_pred = best_model.predict(X_test)\n",
    "\n",
    "results['XGBoost'] = {\n",
    "    \"Accuracy\": accuracy_score(y_test, y_pred),\n",
    "    \"F1-Score\": f1_score(y_test, y_pred, average=\"weighted\"),\n",
    "    \"Tiempo Entrenamiento (s)\": end - start,\n",
    "    \"Reporte\": classification_report(y_test, y_pred, target_names=le.classes_)\n",
    "}\n",
    "\n",
    "# ===== Modelo CatBoost =====\n",
    "start = time.time()\n",
    "cat_grid_search.fit(X_train, y_train)\n",
    "end = time.time()\n",
    "\n",
    "cat_best_model = cat_grid_search.best_estimator_\n",
    "cat_y_pred = cat_best_model.predict(X_test)\n",
    "\n",
    "results['CatBoost'] = {\n",
    "    \"Accuracy\": accuracy_score(y_test, cat_y_pred),\n",
    "    \"F1-Score\": f1_score(y_test, cat_y_pred, average=\"weighted\"),\n",
    #"    \"Tiempo Entrenamiento (s)\": end - start,\n",
    "    \"Reporte\": classification_report(y_test, cat_y_pred, target_names=le.classes_)\n",
    "}\n",
    "\n",
    "# ===== Redes Neuronales =====\n",
    "start = time.time()\n",
    "nw.fit(NL_X_train, NL_y_train, epochs=20, batch_size=32, validation_data=(NL_X_test, NL_y_test), verbose=0)\n",
    "end = time.time()\n",
    "\n",
    "y_pred_probs = nw.predict(NL_X_test)\n",
    "y_pred_classes = np.argmax(y_pred_probs, axis=1)\n",
    "\n",
    "results['Neural Network'] = {\n",
    "    \"Accuracy\": accuracy_score(NL_y_test, y_pred_classes),\n",
    "    \"F1-Score\": f1_score(NL_y_test, y_pred_classes, average=\"weighted\"),\n",
    "    \"Tiempo Entrenamiento (s)\": end - start,\n",
    "    \"Reporte\": classification_report(NL_y_test, y_pred_classes, target_names=le.classes_)\n",
    "}\n",
    "\n",
    "# ===== Random Forest =====\n",
    "start = time.time()\n",
    "rf_grid_search.fit(X_train, y_train)\n",
    "end = time.time()\n",
    "\n",
    "rf_best_model = rf_grid_search.best_estimator_\n",
    "rf_y_pred = rf_best_model.predict(X_test) \n",
    "\n",
    "results['Random Forest'] = {\n",
    "    \"Accuracy\": accuracy_score(y_test, rf_y_pred),\n",
    "    \"F1-Score\": f1_score(y_test, rf_y_pred, average=\"weighted\"),\n",
    "    \"Tiempo Entrenamiento (s)\": end - start,\n",
    "    \"Reporte\": classification_report(y_test, rf_y_pred, target_names=le.classes_)\n",
    "}\n",
    "\n",
    "# ===== Comparación en DataFrame =====\n",
    "comparison = pd.DataFrame(results).T[[\"Accuracy\", \"F1-Score\", \"Tiempo Entrenamiento (s)\"]]\n",
    "print(\"\\n=== Comparación entre Modelos ===\")\n",
    "print(comparison)\n",
    "\n",
    "# Mostrar ambos reports\n",
    "print(\"\\n=== Classification Report XGBoost ===\")\n",
    "print(results['XGBoost'][\"Reporte\"])\n",
    "\n",
    "print(\"\\n=== Classification Report CatBoost ===\")\n",
    "print(results['CatBoost'][\"Reporte\"])\n",
    "\n",
    "print(\"\\n=== Classification Report Neural Network ===\")\n",
    "print(results['Neural Network'][\"Reporte\"])\n",
    "\n",
    "print(\"\\n=== Classification Report Random Forest ===\")\n",
    "print(results['Random Forest'][\"Reporte\"])\n"
   ]
  },
  {
   "cell_type": "markdown",
   "id": "c120507a",
   "metadata": {},
   "source": [
    "## Conclusiones del Análisis de Modelos de Machine Learning\n",
    "\n",
    "Se implementaron y compararon **4 algoritmos de machine learning** para predecir la calidad del sueño basándose en características demográficas, hábitos de consumo de café, actividad física y salud de 10,000 personas. Todos los modelos mostraron rendimientos muy buenos, superando el 98.8% de precisión.\n",
    "\n",
    "### Resultados Principales\n",
    "\n",
    "| Modelo | Accuracy | F1-Score | Tiempo Entrenamiento |\n",
    "|--------|----------|----------|---------------------|\n",
    "| **XGBoost** | **99.05%** | **99.05%** | 247.33s |\n",
    "| **CatBoost** | 98.95% | 98.95% | 32.59s |\n",
    "| **Random Forest** | 98.95% | 98.95% | 288.64s |\n",
    "| **Neural Network** | 98.85% | 98.86% | 1.98s |\n",
    "\n",
    "### Análisis y ventajas de cada modelo\n",
    "\n",
    "#### **Mejor Modelo: XGBoost**\n",
    "- **Precisión más alta**: 99.05% de accuracy y F1-score\n",
    "- **Rendimiento**: Excelente clasificación en todas las categorías de calidad de sueño\n",
    "- **Robustez**: Maneja bien las clases desbalanceadas (Good: 1162, Fair: 375, Excellent: 273, Poor: 190)\n",
    "\n",
    "#### **Modelo Más Eficiente: Neural Network**\n",
    "- **Velocidad superior**: Solo 1.98 segundos de entrenamiento\n",
    "- **Rendimiento**: 98.85% de precisión\n",
    "\n",
    "#### **Modelo Balanceado: CatBoost**\n",
    "- **Rendimiento**: 98.95% de precisión en solo 32.59s\n",
    "- **Manejo automático de variables categóricas**: Menos preprocesamiento requerido\n",
    "- **Estabilidad**: Resultados consistentes y confiables\n",
    "\n",
    "#### **Modelo Robusto: Random Forest**\n",
    "- **Rendimiento**: 98.95% de accuracy\n",
    "- **Interpretabilidad**: Fácil análisis de importancia de características\n",
    "- **Resistencia al overfitting**: Múltiples árboles de decisión\n",
    "\n",
    "### Limitaciones\n",
    "\n",
    "- **Dataset sintético**: Los resultados pueden no reflejar completamente datos reales\n",
    "- **Overfitting potencial**: Precisión muy alta puede indicar sobreajuste\n",
    "- **Variables faltantes**: Algunas características importantes del sueño podrían no estar incluidas\n",
    "- **Características determinantes**: El mejor determinante en este caso sería el tiempo y el modelo que explique de mejor forma"
   ]
  }
 ],
 "metadata": {
  "kernelspec": {
   "display_name": ".venv",
   "language": "python",
   "name": "python3"
  },
  "language_info": {
   "codemirror_mode": {
    "name": "ipython",
    "version": 3
   },
   "file_extension": ".py",
   "mimetype": "text/x-python",
   "name": "python",
   "nbconvert_exporter": "python",
   "pygments_lexer": "ipython3",
   "version": "3.12.11"
  }
 },
 "nbformat": 4,
 "nbformat_minor": 5
}
